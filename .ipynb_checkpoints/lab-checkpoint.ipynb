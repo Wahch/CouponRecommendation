{
 "cells": [
  {
   "cell_type": "code",
   "execution_count": 17,
   "id": "0a32f374-c66a-4ae2-9c50-da07f23c4060",
   "metadata": {},
   "outputs": [],
   "source": [
    "import numpy as np\n",
    "import pandas as pd\n",
    "import matplotlib.pyplot as plt\n",
    "from numpy import isnan\n",
    "from pandas import read_csv"
   ]
  },
  {
   "cell_type": "code",
   "execution_count": 18,
   "id": "e2fbd5b8-0acd-42f8-abba-57a2be14d61d",
   "metadata": {},
   "outputs": [],
   "source": [
    "data= pd.read_csv('CouponRecommendation.csv') # IMPORTATION DATA "
   ]
  },
  {
   "cell_type": "code",
   "execution_count": 19,
   "id": "544851a5-fb16-41d2-afe4-ba00036c577a",
   "metadata": {},
   "outputs": [],
   "source": [
    "# data"
   ]
  },
  {
   "cell_type": "code",
   "execution_count": 20,
   "id": "a772ea76-f42b-410f-aead-32087ae3d501",
   "metadata": {},
   "outputs": [
    {
     "data": {
      "text/plain": [
       "(12684, 26)"
      ]
     },
     "execution_count": 20,
     "metadata": {},
     "output_type": "execute_result"
    }
   ],
   "source": [
    "data.shape"
   ]
  },
  {
   "cell_type": "code",
   "execution_count": 21,
   "id": "ab7141ac-6eb7-40ad-9bdb-ec15498633df",
   "metadata": {},
   "outputs": [
    {
     "data": {
      "text/plain": [
       "(12684, 26)"
      ]
     },
     "execution_count": 21,
     "metadata": {},
     "output_type": "execute_result"
    }
   ],
   "source": [
    "data.shape # TAILLE DE DATAFRAME"
   ]
  },
  {
   "cell_type": "code",
   "execution_count": 22,
   "id": "8fbcc97c-a361-42ce-8d55-7b837b6e2770",
   "metadata": {},
   "outputs": [
    {
     "name": "stdout",
     "output_type": "stream",
     "text": [
      "<class 'pandas.core.frame.DataFrame'>\n",
      "RangeIndex: 12684 entries, 0 to 12683\n",
      "Data columns (total 26 columns):\n",
      " #   Column                Non-Null Count  Dtype \n",
      "---  ------                --------------  ----- \n",
      " 0   destination           12684 non-null  object\n",
      " 1   passanger             12684 non-null  object\n",
      " 2   weather               12684 non-null  object\n",
      " 3   temperature           12684 non-null  int64 \n",
      " 4   time                  12684 non-null  object\n",
      " 5   coupon                12684 non-null  object\n",
      " 6   expiration            12684 non-null  object\n",
      " 7   gender                12684 non-null  object\n",
      " 8   age                   12684 non-null  object\n",
      " 9   maritalStatus         12684 non-null  object\n",
      " 10  has_children          12684 non-null  int64 \n",
      " 11  education             12684 non-null  object\n",
      " 12  occupation            12684 non-null  object\n",
      " 13  income                12684 non-null  object\n",
      " 14  car                   108 non-null    object\n",
      " 15  Bar                   12577 non-null  object\n",
      " 16  CoffeeHouse           12467 non-null  object\n",
      " 17  CarryAway             12533 non-null  object\n",
      " 18  RestaurantLessThan20  12554 non-null  object\n",
      " 19  Restaurant20To50      12495 non-null  object\n",
      " 20  toCoupon_GEQ5min      12684 non-null  int64 \n",
      " 21  toCoupon_GEQ15min     12684 non-null  int64 \n",
      " 22  toCoupon_GEQ25min     12684 non-null  int64 \n",
      " 23  direction_same        12684 non-null  int64 \n",
      " 24  direction_opp         12684 non-null  int64 \n",
      " 25  Y                     12684 non-null  int64 \n",
      "dtypes: int64(8), object(18)\n",
      "memory usage: 2.5+ MB\n"
     ]
    }
   ],
   "source": [
    "data.info() #TYPE DE CHAQUE COLONNE "
   ]
  },
  {
   "cell_type": "code",
   "execution_count": 23,
   "id": "817a5a6e-a33b-45de-8cfa-f5a048880e98",
   "metadata": {},
   "outputs": [
    {
     "data": {
      "text/html": [
       "<div>\n",
       "<style scoped>\n",
       "    .dataframe tbody tr th:only-of-type {\n",
       "        vertical-align: middle;\n",
       "    }\n",
       "\n",
       "    .dataframe tbody tr th {\n",
       "        vertical-align: top;\n",
       "    }\n",
       "\n",
       "    .dataframe thead th {\n",
       "        text-align: right;\n",
       "    }\n",
       "</style>\n",
       "<table border=\"1\" class=\"dataframe\">\n",
       "  <thead>\n",
       "    <tr style=\"text-align: right;\">\n",
       "      <th></th>\n",
       "      <th>temperature</th>\n",
       "      <th>has_children</th>\n",
       "      <th>toCoupon_GEQ5min</th>\n",
       "      <th>toCoupon_GEQ15min</th>\n",
       "      <th>toCoupon_GEQ25min</th>\n",
       "      <th>direction_same</th>\n",
       "      <th>direction_opp</th>\n",
       "      <th>Y</th>\n",
       "    </tr>\n",
       "  </thead>\n",
       "  <tbody>\n",
       "    <tr>\n",
       "      <th>count</th>\n",
       "      <td>12684.000000</td>\n",
       "      <td>12684.000000</td>\n",
       "      <td>12684.0</td>\n",
       "      <td>12684.000000</td>\n",
       "      <td>12684.000000</td>\n",
       "      <td>12684.000000</td>\n",
       "      <td>12684.000000</td>\n",
       "      <td>12684.000000</td>\n",
       "    </tr>\n",
       "    <tr>\n",
       "      <th>mean</th>\n",
       "      <td>63.301798</td>\n",
       "      <td>0.414144</td>\n",
       "      <td>1.0</td>\n",
       "      <td>0.561495</td>\n",
       "      <td>0.119126</td>\n",
       "      <td>0.214759</td>\n",
       "      <td>0.785241</td>\n",
       "      <td>0.568433</td>\n",
       "    </tr>\n",
       "    <tr>\n",
       "      <th>std</th>\n",
       "      <td>19.154486</td>\n",
       "      <td>0.492593</td>\n",
       "      <td>0.0</td>\n",
       "      <td>0.496224</td>\n",
       "      <td>0.323950</td>\n",
       "      <td>0.410671</td>\n",
       "      <td>0.410671</td>\n",
       "      <td>0.495314</td>\n",
       "    </tr>\n",
       "    <tr>\n",
       "      <th>min</th>\n",
       "      <td>30.000000</td>\n",
       "      <td>0.000000</td>\n",
       "      <td>1.0</td>\n",
       "      <td>0.000000</td>\n",
       "      <td>0.000000</td>\n",
       "      <td>0.000000</td>\n",
       "      <td>0.000000</td>\n",
       "      <td>0.000000</td>\n",
       "    </tr>\n",
       "    <tr>\n",
       "      <th>25%</th>\n",
       "      <td>55.000000</td>\n",
       "      <td>0.000000</td>\n",
       "      <td>1.0</td>\n",
       "      <td>0.000000</td>\n",
       "      <td>0.000000</td>\n",
       "      <td>0.000000</td>\n",
       "      <td>1.000000</td>\n",
       "      <td>0.000000</td>\n",
       "    </tr>\n",
       "    <tr>\n",
       "      <th>50%</th>\n",
       "      <td>80.000000</td>\n",
       "      <td>0.000000</td>\n",
       "      <td>1.0</td>\n",
       "      <td>1.000000</td>\n",
       "      <td>0.000000</td>\n",
       "      <td>0.000000</td>\n",
       "      <td>1.000000</td>\n",
       "      <td>1.000000</td>\n",
       "    </tr>\n",
       "    <tr>\n",
       "      <th>75%</th>\n",
       "      <td>80.000000</td>\n",
       "      <td>1.000000</td>\n",
       "      <td>1.0</td>\n",
       "      <td>1.000000</td>\n",
       "      <td>0.000000</td>\n",
       "      <td>0.000000</td>\n",
       "      <td>1.000000</td>\n",
       "      <td>1.000000</td>\n",
       "    </tr>\n",
       "    <tr>\n",
       "      <th>max</th>\n",
       "      <td>80.000000</td>\n",
       "      <td>1.000000</td>\n",
       "      <td>1.0</td>\n",
       "      <td>1.000000</td>\n",
       "      <td>1.000000</td>\n",
       "      <td>1.000000</td>\n",
       "      <td>1.000000</td>\n",
       "      <td>1.000000</td>\n",
       "    </tr>\n",
       "  </tbody>\n",
       "</table>\n",
       "</div>"
      ],
      "text/plain": [
       "        temperature  has_children  toCoupon_GEQ5min  toCoupon_GEQ15min  \\\n",
       "count  12684.000000  12684.000000           12684.0       12684.000000   \n",
       "mean      63.301798      0.414144               1.0           0.561495   \n",
       "std       19.154486      0.492593               0.0           0.496224   \n",
       "min       30.000000      0.000000               1.0           0.000000   \n",
       "25%       55.000000      0.000000               1.0           0.000000   \n",
       "50%       80.000000      0.000000               1.0           1.000000   \n",
       "75%       80.000000      1.000000               1.0           1.000000   \n",
       "max       80.000000      1.000000               1.0           1.000000   \n",
       "\n",
       "       toCoupon_GEQ25min  direction_same  direction_opp             Y  \n",
       "count       12684.000000    12684.000000   12684.000000  12684.000000  \n",
       "mean            0.119126        0.214759       0.785241      0.568433  \n",
       "std             0.323950        0.410671       0.410671      0.495314  \n",
       "min             0.000000        0.000000       0.000000      0.000000  \n",
       "25%             0.000000        0.000000       1.000000      0.000000  \n",
       "50%             0.000000        0.000000       1.000000      1.000000  \n",
       "75%             0.000000        0.000000       1.000000      1.000000  \n",
       "max             1.000000        1.000000       1.000000      1.000000  "
      ]
     },
     "execution_count": 23,
     "metadata": {},
     "output_type": "execute_result"
    }
   ],
   "source": [
    " data.describe()#description de chaque colonne numérique"
   ]
  },
  {
   "cell_type": "code",
   "execution_count": 24,
   "id": "ff6f2a43-d08f-4547-979d-e0a68d13777c",
   "metadata": {},
   "outputs": [
    {
     "data": {
      "text/html": [
       "<div>\n",
       "<style scoped>\n",
       "    .dataframe tbody tr th:only-of-type {\n",
       "        vertical-align: middle;\n",
       "    }\n",
       "\n",
       "    .dataframe tbody tr th {\n",
       "        vertical-align: top;\n",
       "    }\n",
       "\n",
       "    .dataframe thead th {\n",
       "        text-align: right;\n",
       "    }\n",
       "</style>\n",
       "<table border=\"1\" class=\"dataframe\">\n",
       "  <thead>\n",
       "    <tr style=\"text-align: right;\">\n",
       "      <th></th>\n",
       "      <th>Nom de la colonne</th>\n",
       "      <th>Nombre de valeurs manquantes</th>\n",
       "      <th>Pourcentage de valeurs manquantes</th>\n",
       "    </tr>\n",
       "  </thead>\n",
       "  <tbody>\n",
       "    <tr>\n",
       "      <th>destination</th>\n",
       "      <td>destination</td>\n",
       "      <td>0</td>\n",
       "      <td>0.000000</td>\n",
       "    </tr>\n",
       "    <tr>\n",
       "      <th>passanger</th>\n",
       "      <td>passanger</td>\n",
       "      <td>0</td>\n",
       "      <td>0.000000</td>\n",
       "    </tr>\n",
       "    <tr>\n",
       "      <th>weather</th>\n",
       "      <td>weather</td>\n",
       "      <td>0</td>\n",
       "      <td>0.000000</td>\n",
       "    </tr>\n",
       "    <tr>\n",
       "      <th>temperature</th>\n",
       "      <td>temperature</td>\n",
       "      <td>0</td>\n",
       "      <td>0.000000</td>\n",
       "    </tr>\n",
       "    <tr>\n",
       "      <th>time</th>\n",
       "      <td>time</td>\n",
       "      <td>0</td>\n",
       "      <td>0.000000</td>\n",
       "    </tr>\n",
       "    <tr>\n",
       "      <th>coupon</th>\n",
       "      <td>coupon</td>\n",
       "      <td>0</td>\n",
       "      <td>0.000000</td>\n",
       "    </tr>\n",
       "    <tr>\n",
       "      <th>expiration</th>\n",
       "      <td>expiration</td>\n",
       "      <td>0</td>\n",
       "      <td>0.000000</td>\n",
       "    </tr>\n",
       "    <tr>\n",
       "      <th>gender</th>\n",
       "      <td>gender</td>\n",
       "      <td>0</td>\n",
       "      <td>0.000000</td>\n",
       "    </tr>\n",
       "    <tr>\n",
       "      <th>age</th>\n",
       "      <td>age</td>\n",
       "      <td>0</td>\n",
       "      <td>0.000000</td>\n",
       "    </tr>\n",
       "    <tr>\n",
       "      <th>maritalStatus</th>\n",
       "      <td>maritalStatus</td>\n",
       "      <td>0</td>\n",
       "      <td>0.000000</td>\n",
       "    </tr>\n",
       "    <tr>\n",
       "      <th>has_children</th>\n",
       "      <td>has_children</td>\n",
       "      <td>0</td>\n",
       "      <td>0.000000</td>\n",
       "    </tr>\n",
       "    <tr>\n",
       "      <th>education</th>\n",
       "      <td>education</td>\n",
       "      <td>0</td>\n",
       "      <td>0.000000</td>\n",
       "    </tr>\n",
       "    <tr>\n",
       "      <th>occupation</th>\n",
       "      <td>occupation</td>\n",
       "      <td>0</td>\n",
       "      <td>0.000000</td>\n",
       "    </tr>\n",
       "    <tr>\n",
       "      <th>income</th>\n",
       "      <td>income</td>\n",
       "      <td>0</td>\n",
       "      <td>0.000000</td>\n",
       "    </tr>\n",
       "    <tr>\n",
       "      <th>car</th>\n",
       "      <td>car</td>\n",
       "      <td>12576</td>\n",
       "      <td>99.148534</td>\n",
       "    </tr>\n",
       "    <tr>\n",
       "      <th>Bar</th>\n",
       "      <td>Bar</td>\n",
       "      <td>107</td>\n",
       "      <td>0.843582</td>\n",
       "    </tr>\n",
       "    <tr>\n",
       "      <th>CoffeeHouse</th>\n",
       "      <td>CoffeeHouse</td>\n",
       "      <td>217</td>\n",
       "      <td>1.710817</td>\n",
       "    </tr>\n",
       "    <tr>\n",
       "      <th>CarryAway</th>\n",
       "      <td>CarryAway</td>\n",
       "      <td>151</td>\n",
       "      <td>1.190476</td>\n",
       "    </tr>\n",
       "    <tr>\n",
       "      <th>RestaurantLessThan20</th>\n",
       "      <td>RestaurantLessThan20</td>\n",
       "      <td>130</td>\n",
       "      <td>1.024913</td>\n",
       "    </tr>\n",
       "    <tr>\n",
       "      <th>Restaurant20To50</th>\n",
       "      <td>Restaurant20To50</td>\n",
       "      <td>189</td>\n",
       "      <td>1.490066</td>\n",
       "    </tr>\n",
       "    <tr>\n",
       "      <th>toCoupon_GEQ5min</th>\n",
       "      <td>toCoupon_GEQ5min</td>\n",
       "      <td>0</td>\n",
       "      <td>0.000000</td>\n",
       "    </tr>\n",
       "    <tr>\n",
       "      <th>toCoupon_GEQ15min</th>\n",
       "      <td>toCoupon_GEQ15min</td>\n",
       "      <td>0</td>\n",
       "      <td>0.000000</td>\n",
       "    </tr>\n",
       "    <tr>\n",
       "      <th>toCoupon_GEQ25min</th>\n",
       "      <td>toCoupon_GEQ25min</td>\n",
       "      <td>0</td>\n",
       "      <td>0.000000</td>\n",
       "    </tr>\n",
       "    <tr>\n",
       "      <th>direction_same</th>\n",
       "      <td>direction_same</td>\n",
       "      <td>0</td>\n",
       "      <td>0.000000</td>\n",
       "    </tr>\n",
       "    <tr>\n",
       "      <th>direction_opp</th>\n",
       "      <td>direction_opp</td>\n",
       "      <td>0</td>\n",
       "      <td>0.000000</td>\n",
       "    </tr>\n",
       "    <tr>\n",
       "      <th>Y</th>\n",
       "      <td>Y</td>\n",
       "      <td>0</td>\n",
       "      <td>0.000000</td>\n",
       "    </tr>\n",
       "  </tbody>\n",
       "</table>\n",
       "</div>"
      ],
      "text/plain": [
       "                         Nom de la colonne  Nombre de valeurs manquantes  \\\n",
       "destination                    destination                             0   \n",
       "passanger                        passanger                             0   \n",
       "weather                            weather                             0   \n",
       "temperature                    temperature                             0   \n",
       "time                                  time                             0   \n",
       "coupon                              coupon                             0   \n",
       "expiration                      expiration                             0   \n",
       "gender                              gender                             0   \n",
       "age                                    age                             0   \n",
       "maritalStatus                maritalStatus                             0   \n",
       "has_children                  has_children                             0   \n",
       "education                        education                             0   \n",
       "occupation                      occupation                             0   \n",
       "income                              income                             0   \n",
       "car                                    car                         12576   \n",
       "Bar                                    Bar                           107   \n",
       "CoffeeHouse                    CoffeeHouse                           217   \n",
       "CarryAway                        CarryAway                           151   \n",
       "RestaurantLessThan20  RestaurantLessThan20                           130   \n",
       "Restaurant20To50          Restaurant20To50                           189   \n",
       "toCoupon_GEQ5min          toCoupon_GEQ5min                             0   \n",
       "toCoupon_GEQ15min        toCoupon_GEQ15min                             0   \n",
       "toCoupon_GEQ25min        toCoupon_GEQ25min                             0   \n",
       "direction_same              direction_same                             0   \n",
       "direction_opp                direction_opp                             0   \n",
       "Y                                        Y                             0   \n",
       "\n",
       "                      Pourcentage de valeurs manquantes  \n",
       "destination                                    0.000000  \n",
       "passanger                                      0.000000  \n",
       "weather                                        0.000000  \n",
       "temperature                                    0.000000  \n",
       "time                                           0.000000  \n",
       "coupon                                         0.000000  \n",
       "expiration                                     0.000000  \n",
       "gender                                         0.000000  \n",
       "age                                            0.000000  \n",
       "maritalStatus                                  0.000000  \n",
       "has_children                                   0.000000  \n",
       "education                                      0.000000  \n",
       "occupation                                     0.000000  \n",
       "income                                         0.000000  \n",
       "car                                           99.148534  \n",
       "Bar                                            0.843582  \n",
       "CoffeeHouse                                    1.710817  \n",
       "CarryAway                                      1.190476  \n",
       "RestaurantLessThan20                           1.024913  \n",
       "Restaurant20To50                               1.490066  \n",
       "toCoupon_GEQ5min                               0.000000  \n",
       "toCoupon_GEQ15min                              0.000000  \n",
       "toCoupon_GEQ25min                              0.000000  \n",
       "direction_same                                 0.000000  \n",
       "direction_opp                                  0.000000  \n",
       "Y                                              0.000000  "
      ]
     },
     "execution_count": 24,
     "metadata": {},
     "output_type": "execute_result"
    }
   ],
   "source": [
    "missing_count = data.isnull().sum()\n",
    "missing_percentage = (missing_count / len(data)) * 100\n",
    "missing_data_info = pd.DataFrame({\n",
    "    'Nom de la colonne': data.columns,\n",
    "    'Nombre de valeurs manquantes': missing_count,\n",
    "    'Pourcentage de valeurs manquantes': missing_percentage\n",
    "})\n",
    "missing_data_info\n",
    "#valeurs nulles pour chaque colonne + pourcentage"
   ]
  },
  {
   "cell_type": "code",
   "execution_count": null,
   "id": "9cf0b101-200a-4fa4-b0a0-56830cd63f23",
   "metadata": {},
   "outputs": [],
   "source": []
  },
  {
   "cell_type": "code",
   "execution_count": 25,
   "id": "c4155bc5-706a-48bd-8f76-4b48d5d6c964",
   "metadata": {},
   "outputs": [
    {
     "name": "stdout",
     "output_type": "stream",
     "text": [
      "Valeurs uniques pour la colonne destination: ['No Urgent Place' 'Home' 'Work']\n",
      "Valeurs uniques pour la colonne passanger: ['Alone' 'Friend(s)' 'Kid(s)' 'Partner']\n",
      "Valeurs uniques pour la colonne weather: ['Sunny' 'Rainy' 'Snowy']\n",
      "Valeurs uniques pour la colonne temperature: [55 80 30]\n",
      "Valeurs uniques pour la colonne time: ['2PM' '10AM' '6PM' '7AM' '10PM']\n",
      "Valeurs uniques pour la colonne coupon: ['Restaurant(<20)' 'Coffee House' 'Carry out & Take away' 'Bar'\n",
      " 'Restaurant(20-50)']\n",
      "Valeurs uniques pour la colonne expiration: ['1d' '2h']\n",
      "Valeurs uniques pour la colonne gender: ['Female' 'Male']\n",
      "Valeurs uniques pour la colonne age: ['21' '46' '26' '31' '41' '50plus' '36' 'below21']\n",
      "Valeurs uniques pour la colonne maritalStatus: ['Unmarried partner' 'Single' 'Married partner' 'Divorced' 'Widowed']\n",
      "Valeurs uniques pour la colonne has_children: [1 0]\n",
      "Valeurs uniques pour la colonne education: ['Some college - no degree' 'Bachelors degree' 'Associates degree'\n",
      " 'High School Graduate' 'Graduate degree (Masters or Doctorate)'\n",
      " 'Some High School']\n",
      "Valeurs uniques pour la colonne occupation: ['Unemployed' 'Architecture & Engineering' 'Student'\n",
      " 'Education&Training&Library' 'Healthcare Support'\n",
      " 'Healthcare Practitioners & Technical' 'Sales & Related' 'Management'\n",
      " 'Arts Design Entertainment Sports & Media' 'Computer & Mathematical'\n",
      " 'Life Physical Social Science' 'Personal Care & Service'\n",
      " 'Community & Social Services' 'Office & Administrative Support'\n",
      " 'Construction & Extraction' 'Legal' 'Retired'\n",
      " 'Installation Maintenance & Repair' 'Transportation & Material Moving'\n",
      " 'Business & Financial' 'Protective Service'\n",
      " 'Food Preparation & Serving Related' 'Production Occupations'\n",
      " 'Building & Grounds Cleaning & Maintenance' 'Farming Fishing & Forestry']\n",
      "Valeurs uniques pour la colonne income: ['$37500 - $49999' '$62500 - $74999' '$12500 - $24999' '$75000 - $87499'\n",
      " '$50000 - $62499' '$25000 - $37499' '$100000 or More' '$87500 - $99999'\n",
      " 'Less than $12500']\n",
      "Valeurs uniques pour la colonne car: [nan 'Scooter and motorcycle' 'crossover' 'Mazda5' 'do not drive'\n",
      " 'Car that is too old to install Onstar :D']\n",
      "Valeurs uniques pour la colonne Bar: ['never' 'less1' '1~3' 'gt8' nan '4~8']\n",
      "Valeurs uniques pour la colonne CoffeeHouse: ['never' 'less1' '4~8' '1~3' 'gt8' nan]\n",
      "Valeurs uniques pour la colonne CarryAway: [nan '4~8' '1~3' 'gt8' 'less1' 'never']\n",
      "Valeurs uniques pour la colonne RestaurantLessThan20: ['4~8' '1~3' 'less1' 'gt8' nan 'never']\n",
      "Valeurs uniques pour la colonne Restaurant20To50: ['1~3' 'less1' 'never' 'gt8' '4~8' nan]\n",
      "Valeurs uniques pour la colonne toCoupon_GEQ5min: [1]\n",
      "Valeurs uniques pour la colonne toCoupon_GEQ15min: [0 1]\n",
      "Valeurs uniques pour la colonne toCoupon_GEQ25min: [0 1]\n",
      "Valeurs uniques pour la colonne direction_same: [0 1]\n",
      "Valeurs uniques pour la colonne direction_opp: [1 0]\n",
      "Valeurs uniques pour la colonne Y: [1 0]\n"
     ]
    }
   ],
   "source": [
    "for column in data.columns:\n",
    "    unique_values = data[column].unique()\n",
    "    print(f\"Valeurs uniques pour la colonne {column}: {unique_values}\")"
   ]
  },
  {
   "cell_type": "code",
   "execution_count": 26,
   "id": "fc938f23-215e-4ef9-ace0-98146d792b8d",
   "metadata": {},
   "outputs": [],
   "source": [
    "# Supprimer la colonne car ( 99% des valeurs sont manquantes ) \n",
    "data = data.drop('car', axis=1)"
   ]
  },
  {
   "cell_type": "code",
   "execution_count": 27,
   "id": "c1a46aeb-ffd9-4f75-881f-2b5993dd4bbe",
   "metadata": {},
   "outputs": [],
   "source": [
    "# Supprimer la colonne toCoupon_GEQ5min ( toCoupon_GEQ5min prend la meme valeurs pour tout les lignes 1  ) \n",
    "data = data.drop('toCoupon_GEQ5min', axis=1)"
   ]
  },
  {
   "cell_type": "code",
   "execution_count": 28,
   "id": "0c0e9c7b-f175-4955-8a04-d5fb61a7db00",
   "metadata": {},
   "outputs": [
    {
     "data": {
      "text/plain": [
       "(12684, 24)"
      ]
     },
     "execution_count": 28,
     "metadata": {},
     "output_type": "execute_result"
    }
   ],
   "source": [
    "data.shape \n",
    "# taille apres supprussion du colonne car et toCoupon_GEQ5min"
   ]
  },
  {
   "cell_type": "code",
   "execution_count": 29,
   "id": "2155a541-d7f9-49b3-aa71-11996f8b7927",
   "metadata": {},
   "outputs": [
    {
     "data": {
      "text/plain": [
       "destination             0\n",
       "passanger               0\n",
       "weather                 0\n",
       "temperature             0\n",
       "time                    0\n",
       "coupon                  0\n",
       "expiration              0\n",
       "gender                  0\n",
       "age                     0\n",
       "maritalStatus           0\n",
       "has_children            0\n",
       "education               0\n",
       "occupation              0\n",
       "income                  0\n",
       "Bar                     0\n",
       "CoffeeHouse             0\n",
       "CarryAway               0\n",
       "RestaurantLessThan20    0\n",
       "Restaurant20To50        0\n",
       "toCoupon_GEQ15min       0\n",
       "toCoupon_GEQ25min       0\n",
       "direction_same          0\n",
       "direction_opp           0\n",
       "Y                       0\n",
       "dtype: int64"
      ]
     },
     "execution_count": 29,
     "metadata": {},
     "output_type": "execute_result"
    }
   ],
   "source": [
    "# remplacer les valeurs manquants par la valeur la plus frequente (most frequent value)\n",
    "data['Bar'] = data['Bar'].fillna(data['Bar'].mode()[0])\n",
    "data['CoffeeHouse'] = data['CoffeeHouse'].fillna(data['CoffeeHouse'].mode()[0])\n",
    "data['CarryAway'] = data['CarryAway'].fillna(data['CarryAway'].mode()[0])\n",
    "data['RestaurantLessThan20'] = data['RestaurantLessThan20'].fillna(data['RestaurantLessThan20'].mode()[0])\n",
    "data['Restaurant20To50'] = data['Restaurant20To50'].fillna(data['Restaurant20To50'].mode()[0])\n",
    "data.isnull().sum()"
   ]
  },
  {
   "cell_type": "code",
   "execution_count": 30,
   "id": "0fc0a108-33ae-4c06-9bd3-cd2d9ce6dc36",
   "metadata": {},
   "outputs": [],
   "source": [
    "#Valeurs uniques pour la colonne passanger: ['Alone' 'Friend(s)' 'Kid(s)' 'Partner']\n"
   ]
  },
  {
   "cell_type": "code",
   "execution_count": 31,
   "id": "edfa1bce-7082-4427-86d4-785d60507bc1",
   "metadata": {},
   "outputs": [],
   "source": [
    "\n",
    "\n",
    "\n",
    "#data_encoded\n"
   ]
  },
  {
   "cell_type": "code",
   "execution_count": 33,
   "id": "26c7af2d-4f1c-46fc-8a4e-130cbb027d59",
   "metadata": {
    "scrolled": true
   },
   "outputs": [],
   "source": [
    "# Créer un dictionnaire de correspondance catégorie -> entier\n",
    "# category_mapping = {\n",
    "#     '2PM': 14,\n",
    "#     '10AM': 10,\n",
    "#     '6PM': 18,\n",
    "#     '7AM': 7,\n",
    "#     '10PM': 22\n",
    "# }\n",
    "# category_mapping_weather = {\n",
    "#     'Sunny': 0,\n",
    "#     'Rainy': 1,\n",
    "#     'Snowy': 2\n",
    "# }\n",
    "# category_mapping_expiration = {\n",
    "#     '1d': 24,\n",
    "#     '2h': 2\n",
    "# }\n",
    "# category_mapping_gender = {\n",
    "#     'Female': 0,\n",
    "#     'Male': 1\n",
    "# }\n",
    "# category_mapping_age = {\n",
    "#     'below21': 20,\n",
    "#     '21': 21,\n",
    "#     '26': 26,\n",
    "#     '31': 31,\n",
    "#     '36': 36,\n",
    "#     '41': 41,\n",
    "#     '46': 46,\n",
    "#     '50plus': 50\n",
    "# }\n",
    "# category_mapping_age = {\n",
    "#     'below21': 20,\n",
    "#     '21': 21,\n",
    "#     '26': 26,\n",
    "#     '31': 31,\n",
    "#     '36': 36,\n",
    "#     '41': 41,\n",
    "#     '46': 46,\n",
    "#     '50plus': 50\n",
    "# }\n",
    "# category_mapping_education = {\n",
    "#     'Some High School':0,\n",
    "#     'High School Graduate':1,\n",
    "#     'Some college - no degree':2,\n",
    "#     'Associates degree':3,\n",
    "#     'Bachelors degree':4,\n",
    "#     'Graduate degree (Masters or Doctorate)':5 }\n",
    "\n",
    "# data_encoded = pd.get_dummies(data, columns=['destination'], prefix='dest')\n",
    "# data_encoded = pd.get_dummies(data_encoded, columns=['passanger'], prefix='passan')\n",
    "# data_encoded = pd.get_dummies(data_encoded, columns=['coupon'], prefix='coupon')\n",
    "# data_encoded['time'] = data_encoded['time'].map(category_mapping)\n",
    "# data_encoded['weather'] = data_encoded['weather'].map(category_mapping_weather)\n",
    "# data_encoded['expiration'] = data_encoded['expiration'].map(category_mapping_expiration)\n",
    "# data_encoded['gender'] = data_encoded['gender'].map(category_mapping_gender)\n",
    "# data_encoded['age'] = data_encoded['age'].map(category_mapping_age)\n",
    "# data_encoded['education'] = data_encoded['education'].map(category_mapping_education)\n",
    "#data_encoded\n",
    "# Effectuer l'encodage numérique de la colonne \"destination\"\n",
    "# data_encoded.info()\n",
    "\n",
    "# Afficher le DataFrame avec la colonne \"destination_encoded\"\n",
    "# gender: ['Female' 'Male']\n",
    "#time: ['2PM' '10AM' '6PM' '7AM' '10PM']\n",
    "# expiration: ['1d' '2h']\n",
    "#Valeurs uniques pour la colonne education: ['Some college - no degree' 'Bachelors degree' 'Associates degree'\n",
    " # 'High School Graduate' 'Graduate degree (Masters or Doctorate)'\n",
    " # 'Some High School']\n",
    "#Valeurs uniques pour la colonne weather: ['Sunny' 'Rainy' 'Snowy']"
   ]
  },
  {
   "cell_type": "code",
   "execution_count": 35,
   "id": "9a0bf7ac-d65a-460a-945a-2c90c9278bfe",
   "metadata": {},
   "outputs": [],
   "source": [
    "# occupation_dict = {'Healthcare Support':'High_Acceptance','Construction & Extraction':'High_Acceptance','Healthcare Practitioners & Technical':'High_Acceptance',\n",
    "#                    'Protective Service':'High_Acceptance','Architecture & Engineering':'High_Acceptance','Production Occupations':'Medium_High_Acceptance',\n",
    "#                     'Student':'Medium_High_Acceptance','Office & Administrative Support':'Medium_High_Acceptance','Transportation & Material Moving':'Medium_High_Acceptance',\n",
    "#                     'Building & Grounds Cleaning & Maintenance':'Medium_High_Acceptance','Management':'Medium_Acceptance','Food Preparation & Serving Related':'Medium_Acceptance',\n",
    "#                    'Life Physical Social Science':'Medium_Acceptance','Business & Financial':'Medium_Acceptance','Computer & Mathematical':'Medium_Acceptance',\n",
    "#                     'Sales & Related':'Medium_Low_Acceptance','Personal Care & Service':'Medium_Low_Acceptance','Unemployed':'Medium_Low_Acceptance',\n",
    "#                    'Farming Fishing & Forestry':'Medium_Low_Acceptance','Installation Maintenance & Repair':'Medium_Low_Acceptance','Education&Training&Library':'Low_Acceptance',\n",
    "#                     'Arts Design Entertainment Sports & Media':'Low_Acceptance','Community & Social Services':'Low_Acceptance','Legal':'Low_Acceptance','Retired':'Low_Acceptance'}\n",
    "# data_encoded['occupation'] = data_encoded['occupation'].map(occupation_dict)\n",
    "# from sklearn.preprocessing import OrdinalEncoder\n",
    "# encoder = OrdinalEncoder()\n",
    "# encoder = OrdinalEncoder(categories=[ ['Low_Acceptance','Medium_Low_Acceptance','Medium_Acceptance','Medium_High_Acceptance','High_Acceptance']])\n",
    "# data_encoded.occupation = encoder.fit_transform(data_encoded.occupation.values.reshape(-1, 1))\n",
    "\n",
    "#data_encoded"
   ]
  },
  {
   "cell_type": "code",
   "execution_count": 37,
   "id": "8fd73ac2-9dfa-4246-b8b0-901067ebbd43",
   "metadata": {},
   "outputs": [],
   "source": [
    "#data_encoded.info()"
   ]
  },
  {
   "cell_type": "code",
   "execution_count": 38,
   "id": "3ed0f1e6-653d-4ada-b7ed-8313310653b2",
   "metadata": {},
   "outputs": [
    {
     "name": "stdout",
     "output_type": "stream",
     "text": [
      "Pourcentage de personnes ayant accepté le coupon : 56.84326710816777 %\n"
     ]
    }
   ],
   "source": [
    "# Comptez le nombre de personnes ayant accepté le coupon (Y = 1)\n",
    "nombre_accepte = data[data['Y'] == 1]['Y'].count()\n",
    "\n",
    "# Calculez le pourcentage\n",
    "nombre_total = len(data)  # Nombre total de personnes dans l'ensemble de données\n",
    "pourcentage_accepte = (nombre_accepte / nombre_total) * 100\n",
    "\n",
    "# Affichez le résultat\n",
    "print(\"Pourcentage de personnes ayant accepté le coupon :\", pourcentage_accepte, \"%\")\n"
   ]
  },
  {
   "cell_type": "code",
   "execution_count": 39,
   "id": "37b505b6-443f-4e1e-8160-ba758c94c518",
   "metadata": {},
   "outputs": [
    {
     "name": "stdout",
     "output_type": "stream",
     "text": [
      "Pourcentage de chaque type de maritalStatus :\n",
      "Married partner      5100\n",
      "Single               4752\n",
      "Unmarried partner    2186\n",
      "Divorced              516\n",
      "Widowed               130\n",
      "Name: maritalStatus, dtype: int64\n"
     ]
    }
   ],
   "source": [
    "counts = data['maritalStatus'].value_counts()\n",
    "print(\"Pourcentage de chaque type de maritalStatus :\")\n",
    "print(counts)\n"
   ]
  },
  {
   "cell_type": "code",
   "execution_count": 40,
   "id": "36b3150f-3590-4abd-be29-0bb93f589ec0",
   "metadata": {
    "scrolled": true
   },
   "outputs": [
    {
     "ename": "KeyError",
     "evalue": "'toCoupon_GEQ5min'",
     "output_type": "error",
     "traceback": [
      "\u001b[1;31m---------------------------------------------------------------------------\u001b[0m",
      "\u001b[1;31mKeyError\u001b[0m                                  Traceback (most recent call last)",
      "\u001b[1;32mD:\\anaconda\\lib\\site-packages\\pandas\\core\\indexes\\base.py\u001b[0m in \u001b[0;36mget_loc\u001b[1;34m(self, key, method, tolerance)\u001b[0m\n\u001b[0;32m   3628\u001b[0m             \u001b[1;32mtry\u001b[0m\u001b[1;33m:\u001b[0m\u001b[1;33m\u001b[0m\u001b[1;33m\u001b[0m\u001b[0m\n\u001b[1;32m-> 3629\u001b[1;33m                 \u001b[1;32mreturn\u001b[0m \u001b[0mself\u001b[0m\u001b[1;33m.\u001b[0m\u001b[0m_engine\u001b[0m\u001b[1;33m.\u001b[0m\u001b[0mget_loc\u001b[0m\u001b[1;33m(\u001b[0m\u001b[0mcasted_key\u001b[0m\u001b[1;33m)\u001b[0m\u001b[1;33m\u001b[0m\u001b[1;33m\u001b[0m\u001b[0m\n\u001b[0m\u001b[0;32m   3630\u001b[0m             \u001b[1;32mexcept\u001b[0m \u001b[0mKeyError\u001b[0m \u001b[1;32mas\u001b[0m \u001b[0merr\u001b[0m\u001b[1;33m:\u001b[0m\u001b[1;33m\u001b[0m\u001b[1;33m\u001b[0m\u001b[0m\n",
      "\u001b[1;32mD:\\anaconda\\lib\\site-packages\\pandas\\_libs\\index.pyx\u001b[0m in \u001b[0;36mpandas._libs.index.IndexEngine.get_loc\u001b[1;34m()\u001b[0m\n",
      "\u001b[1;32mD:\\anaconda\\lib\\site-packages\\pandas\\_libs\\index.pyx\u001b[0m in \u001b[0;36mpandas._libs.index.IndexEngine.get_loc\u001b[1;34m()\u001b[0m\n",
      "\u001b[1;32mpandas\\_libs\\hashtable_class_helper.pxi\u001b[0m in \u001b[0;36mpandas._libs.hashtable.PyObjectHashTable.get_item\u001b[1;34m()\u001b[0m\n",
      "\u001b[1;32mpandas\\_libs\\hashtable_class_helper.pxi\u001b[0m in \u001b[0;36mpandas._libs.hashtable.PyObjectHashTable.get_item\u001b[1;34m()\u001b[0m\n",
      "\u001b[1;31mKeyError\u001b[0m: 'toCoupon_GEQ5min'",
      "\nThe above exception was the direct cause of the following exception:\n",
      "\u001b[1;31mKeyError\u001b[0m                                  Traceback (most recent call last)",
      "\u001b[1;32m~\\AppData\\Local\\Temp\\ipykernel_14768\\3110934349.py\u001b[0m in \u001b[0;36m<module>\u001b[1;34m\u001b[0m\n\u001b[1;32m----> 1\u001b[1;33m \u001b[0mcounts\u001b[0m \u001b[1;33m=\u001b[0m \u001b[0mdata\u001b[0m\u001b[1;33m[\u001b[0m\u001b[1;34m'toCoupon_GEQ5min'\u001b[0m\u001b[1;33m]\u001b[0m\u001b[1;33m.\u001b[0m\u001b[0mvalue_counts\u001b[0m\u001b[1;33m(\u001b[0m\u001b[1;33m)\u001b[0m\u001b[1;33m\u001b[0m\u001b[1;33m\u001b[0m\u001b[0m\n\u001b[0m\u001b[0;32m      2\u001b[0m \u001b[0mprint\u001b[0m\u001b[1;33m(\u001b[0m\u001b[1;34m\"Pourcentage de chaque type de maritalStatus :\"\u001b[0m\u001b[1;33m)\u001b[0m\u001b[1;33m\u001b[0m\u001b[1;33m\u001b[0m\u001b[0m\n\u001b[0;32m      3\u001b[0m \u001b[0mprint\u001b[0m\u001b[1;33m(\u001b[0m\u001b[0mcounts\u001b[0m\u001b[1;33m)\u001b[0m\u001b[1;33m\u001b[0m\u001b[1;33m\u001b[0m\u001b[0m\n",
      "\u001b[1;32mD:\\anaconda\\lib\\site-packages\\pandas\\core\\frame.py\u001b[0m in \u001b[0;36m__getitem__\u001b[1;34m(self, key)\u001b[0m\n\u001b[0;32m   3503\u001b[0m             \u001b[1;32mif\u001b[0m \u001b[0mself\u001b[0m\u001b[1;33m.\u001b[0m\u001b[0mcolumns\u001b[0m\u001b[1;33m.\u001b[0m\u001b[0mnlevels\u001b[0m \u001b[1;33m>\u001b[0m \u001b[1;36m1\u001b[0m\u001b[1;33m:\u001b[0m\u001b[1;33m\u001b[0m\u001b[1;33m\u001b[0m\u001b[0m\n\u001b[0;32m   3504\u001b[0m                 \u001b[1;32mreturn\u001b[0m \u001b[0mself\u001b[0m\u001b[1;33m.\u001b[0m\u001b[0m_getitem_multilevel\u001b[0m\u001b[1;33m(\u001b[0m\u001b[0mkey\u001b[0m\u001b[1;33m)\u001b[0m\u001b[1;33m\u001b[0m\u001b[1;33m\u001b[0m\u001b[0m\n\u001b[1;32m-> 3505\u001b[1;33m             \u001b[0mindexer\u001b[0m \u001b[1;33m=\u001b[0m \u001b[0mself\u001b[0m\u001b[1;33m.\u001b[0m\u001b[0mcolumns\u001b[0m\u001b[1;33m.\u001b[0m\u001b[0mget_loc\u001b[0m\u001b[1;33m(\u001b[0m\u001b[0mkey\u001b[0m\u001b[1;33m)\u001b[0m\u001b[1;33m\u001b[0m\u001b[1;33m\u001b[0m\u001b[0m\n\u001b[0m\u001b[0;32m   3506\u001b[0m             \u001b[1;32mif\u001b[0m \u001b[0mis_integer\u001b[0m\u001b[1;33m(\u001b[0m\u001b[0mindexer\u001b[0m\u001b[1;33m)\u001b[0m\u001b[1;33m:\u001b[0m\u001b[1;33m\u001b[0m\u001b[1;33m\u001b[0m\u001b[0m\n\u001b[0;32m   3507\u001b[0m                 \u001b[0mindexer\u001b[0m \u001b[1;33m=\u001b[0m \u001b[1;33m[\u001b[0m\u001b[0mindexer\u001b[0m\u001b[1;33m]\u001b[0m\u001b[1;33m\u001b[0m\u001b[1;33m\u001b[0m\u001b[0m\n",
      "\u001b[1;32mD:\\anaconda\\lib\\site-packages\\pandas\\core\\indexes\\base.py\u001b[0m in \u001b[0;36mget_loc\u001b[1;34m(self, key, method, tolerance)\u001b[0m\n\u001b[0;32m   3629\u001b[0m                 \u001b[1;32mreturn\u001b[0m \u001b[0mself\u001b[0m\u001b[1;33m.\u001b[0m\u001b[0m_engine\u001b[0m\u001b[1;33m.\u001b[0m\u001b[0mget_loc\u001b[0m\u001b[1;33m(\u001b[0m\u001b[0mcasted_key\u001b[0m\u001b[1;33m)\u001b[0m\u001b[1;33m\u001b[0m\u001b[1;33m\u001b[0m\u001b[0m\n\u001b[0;32m   3630\u001b[0m             \u001b[1;32mexcept\u001b[0m \u001b[0mKeyError\u001b[0m \u001b[1;32mas\u001b[0m \u001b[0merr\u001b[0m\u001b[1;33m:\u001b[0m\u001b[1;33m\u001b[0m\u001b[1;33m\u001b[0m\u001b[0m\n\u001b[1;32m-> 3631\u001b[1;33m                 \u001b[1;32mraise\u001b[0m \u001b[0mKeyError\u001b[0m\u001b[1;33m(\u001b[0m\u001b[0mkey\u001b[0m\u001b[1;33m)\u001b[0m \u001b[1;32mfrom\u001b[0m \u001b[0merr\u001b[0m\u001b[1;33m\u001b[0m\u001b[1;33m\u001b[0m\u001b[0m\n\u001b[0m\u001b[0;32m   3632\u001b[0m             \u001b[1;32mexcept\u001b[0m \u001b[0mTypeError\u001b[0m\u001b[1;33m:\u001b[0m\u001b[1;33m\u001b[0m\u001b[1;33m\u001b[0m\u001b[0m\n\u001b[0;32m   3633\u001b[0m                 \u001b[1;31m# If we have a listlike key, _check_indexing_error will raise\u001b[0m\u001b[1;33m\u001b[0m\u001b[1;33m\u001b[0m\u001b[0m\n",
      "\u001b[1;31mKeyError\u001b[0m: 'toCoupon_GEQ5min'"
     ]
    }
   ],
   "source": [
    "# counts = data['toCoupon_GEQ5min'].value_counts()\n",
    "# print(\"Pourcentage de chaque type de maritalStatus :\")\n",
    "# print(counts)\n"
   ]
  },
  {
   "cell_type": "code",
   "execution_count": 41,
   "id": "b11bfcbd-23e7-4745-9af9-21a91d69f374",
   "metadata": {},
   "outputs": [
    {
     "name": "stdout",
     "output_type": "stream",
     "text": [
      "Pourcentage de chaque type de maritalStatus :\n",
      "$25000 - $37499     2013\n",
      "$12500 - $24999     1831\n",
      "$37500 - $49999     1805\n",
      "$100000 or More     1736\n",
      "$50000 - $62499     1659\n",
      "Less than $12500    1042\n",
      "$87500 - $99999      895\n",
      "$75000 - $87499      857\n",
      "$62500 - $74999      846\n",
      "Name: income, dtype: int64\n"
     ]
    }
   ],
   "source": [
    "counts = data['income'].value_counts()\n",
    "print(\"Pourcentage de chaque type de maritalStatus :\")\n",
    "print(counts)"
   ]
  },
  {
   "cell_type": "code",
   "execution_count": 42,
   "id": "feaf8cf3-d185-49e9-94a9-ae6fcc4e139f",
   "metadata": {},
   "outputs": [
    {
     "name": "stdout",
     "output_type": "stream",
     "text": [
      "Y                        0          1\n",
      "destination                          \n",
      "Home             49.366698  50.633302\n",
      "No Urgent Place  36.622633  63.377367\n",
      "Work             49.778761  50.221239\n"
     ]
    }
   ],
   "source": [
    "# Utilisez crosstab pour compter les occurrences de votre variable par rapport à l'acceptation ou le refus du coupon\n",
    "tableau_croise = pd.crosstab(index=data['destination'], columns=data['Y'], normalize='index') * 100\n",
    "\n",
    "# Affichez le tableau croisé\n",
    "print(tableau_croise)\n"
   ]
  },
  {
   "cell_type": "code",
   "execution_count": 43,
   "id": "d36f9b7f-0551-4911-8d19-07bdadeb814a",
   "metadata": {},
   "outputs": [
    {
     "name": "stdout",
     "output_type": "stream",
     "text": [
      "Y                  0          1\n",
      "passanger                      \n",
      "Alone      47.419576  52.580424\n",
      "Friend(s)  32.656155  67.343845\n",
      "Kid(s)     49.502982  50.497018\n",
      "Partner    40.465116  59.534884\n"
     ]
    }
   ],
   "source": [
    "# Utilisez crosstab pour compter les occurrences de votre variable par rapport à l'acceptation ou le refus du coupon\n",
    "tableau_croise = pd.crosstab(index=data['passanger'], columns=data['Y'], normalize='index') * 100\n",
    "\n",
    "# Affichez le tableau croisé\n",
    "print(tableau_croise)"
   ]
  },
  {
   "cell_type": "code",
   "execution_count": 44,
   "id": "f256d5a8-da85-4cfc-8fae-f921a161dce0",
   "metadata": {},
   "outputs": [
    {
     "name": "stdout",
     "output_type": "stream",
     "text": [
      "Y                0          1\n",
      "weather                      \n",
      "Rainy    53.719008  46.280992\n",
      "Snowy    52.953737  47.046263\n",
      "Sunny    40.520409  59.479591\n"
     ]
    }
   ],
   "source": [
    "# Utilisez crosstab pour compter les occurrences de votre variable par rapport à l'acceptation ou le refus du coupon\n",
    "tableau_croise = pd.crosstab(index=data['weather'], columns=data['Y'], normalize='index') * 100\n",
    "\n",
    "# Affichez le tableau croisé\n",
    "print(tableau_croise)"
   ]
  },
  {
   "cell_type": "code",
   "execution_count": 45,
   "id": "09c6b5d1-3435-45e5-9a98-338d0efc76fc",
   "metadata": {},
   "outputs": [],
   "source": [
    "data = data.drop_duplicates()"
   ]
  },
  {
   "cell_type": "code",
   "execution_count": 46,
   "id": "d6d8393d-db8e-47d4-9b3f-6cd671c1a7bd",
   "metadata": {},
   "outputs": [
    {
     "name": "stdout",
     "output_type": "stream",
     "text": [
      "Is there any missing value present or not? False\n"
     ]
    },
    {
     "data": {
      "text/html": [
       "<div>\n",
       "<style scoped>\n",
       "    .dataframe tbody tr th:only-of-type {\n",
       "        vertical-align: middle;\n",
       "    }\n",
       "\n",
       "    .dataframe tbody tr th {\n",
       "        vertical-align: top;\n",
       "    }\n",
       "\n",
       "    .dataframe thead th {\n",
       "        text-align: right;\n",
       "    }\n",
       "</style>\n",
       "<table border=\"1\" class=\"dataframe\">\n",
       "  <thead>\n",
       "    <tr style=\"text-align: right;\">\n",
       "      <th></th>\n",
       "      <th>missing_count</th>\n",
       "      <th>missing_percentage</th>\n",
       "    </tr>\n",
       "  </thead>\n",
       "  <tbody>\n",
       "  </tbody>\n",
       "</table>\n",
       "</div>"
      ],
      "text/plain": [
       "Empty DataFrame\n",
       "Columns: [missing_count, missing_percentage]\n",
       "Index: []"
      ]
     },
     "execution_count": 46,
     "metadata": {},
     "output_type": "execute_result"
    }
   ],
   "source": [
    "print('Is there any missing value present or not?',data.isnull().values.any())\n",
    "missing_percentage = data.isnull().sum()*100/len(data)\n",
    "missing_value_df = pd.DataFrame({'missing_count': data.isnull().sum(),'missing_percentage': missing_percentage})\n",
    "missing_value_df[missing_value_df.missing_count != 0]\n"
   ]
  },
  {
   "cell_type": "code",
   "execution_count": 47,
   "id": "dd1db52c-f7d5-4522-a219-e63b0b2fbcb2",
   "metadata": {},
   "outputs": [
    {
     "ename": "KeyError",
     "evalue": "\"['car'] not found in axis\"",
     "output_type": "error",
     "traceback": [
      "\u001b[1;31m---------------------------------------------------------------------------\u001b[0m",
      "\u001b[1;31mKeyError\u001b[0m                                  Traceback (most recent call last)",
      "\u001b[1;32m~\\AppData\\Local\\Temp\\ipykernel_14768\\4136922863.py\u001b[0m in \u001b[0;36m<module>\u001b[1;34m\u001b[0m\n\u001b[0;32m      1\u001b[0m \u001b[1;31m# Supprimer la colonne car\u001b[0m\u001b[1;33m\u001b[0m\u001b[1;33m\u001b[0m\u001b[0m\n\u001b[1;32m----> 2\u001b[1;33m \u001b[0mdata\u001b[0m \u001b[1;33m=\u001b[0m \u001b[0mdata\u001b[0m\u001b[1;33m.\u001b[0m\u001b[0mdrop\u001b[0m\u001b[1;33m(\u001b[0m\u001b[1;34m'car'\u001b[0m\u001b[1;33m,\u001b[0m \u001b[0maxis\u001b[0m\u001b[1;33m=\u001b[0m\u001b[1;36m1\u001b[0m\u001b[1;33m)\u001b[0m\u001b[1;33m\u001b[0m\u001b[1;33m\u001b[0m\u001b[0m\n\u001b[0m",
      "\u001b[1;32mD:\\anaconda\\lib\\site-packages\\pandas\\util\\_decorators.py\u001b[0m in \u001b[0;36mwrapper\u001b[1;34m(*args, **kwargs)\u001b[0m\n\u001b[0;32m    309\u001b[0m                     \u001b[0mstacklevel\u001b[0m\u001b[1;33m=\u001b[0m\u001b[0mstacklevel\u001b[0m\u001b[1;33m,\u001b[0m\u001b[1;33m\u001b[0m\u001b[1;33m\u001b[0m\u001b[0m\n\u001b[0;32m    310\u001b[0m                 )\n\u001b[1;32m--> 311\u001b[1;33m             \u001b[1;32mreturn\u001b[0m \u001b[0mfunc\u001b[0m\u001b[1;33m(\u001b[0m\u001b[1;33m*\u001b[0m\u001b[0margs\u001b[0m\u001b[1;33m,\u001b[0m \u001b[1;33m**\u001b[0m\u001b[0mkwargs\u001b[0m\u001b[1;33m)\u001b[0m\u001b[1;33m\u001b[0m\u001b[1;33m\u001b[0m\u001b[0m\n\u001b[0m\u001b[0;32m    312\u001b[0m \u001b[1;33m\u001b[0m\u001b[0m\n\u001b[0;32m    313\u001b[0m         \u001b[1;32mreturn\u001b[0m \u001b[0mwrapper\u001b[0m\u001b[1;33m\u001b[0m\u001b[1;33m\u001b[0m\u001b[0m\n",
      "\u001b[1;32mD:\\anaconda\\lib\\site-packages\\pandas\\core\\frame.py\u001b[0m in \u001b[0;36mdrop\u001b[1;34m(self, labels, axis, index, columns, level, inplace, errors)\u001b[0m\n\u001b[0;32m   4955\u001b[0m                 \u001b[0mweight\u001b[0m  \u001b[1;36m1.0\u001b[0m     \u001b[1;36m0.8\u001b[0m\u001b[1;33m\u001b[0m\u001b[1;33m\u001b[0m\u001b[0m\n\u001b[0;32m   4956\u001b[0m         \"\"\"\n\u001b[1;32m-> 4957\u001b[1;33m         return super().drop(\n\u001b[0m\u001b[0;32m   4958\u001b[0m             \u001b[0mlabels\u001b[0m\u001b[1;33m=\u001b[0m\u001b[0mlabels\u001b[0m\u001b[1;33m,\u001b[0m\u001b[1;33m\u001b[0m\u001b[1;33m\u001b[0m\u001b[0m\n\u001b[0;32m   4959\u001b[0m             \u001b[0maxis\u001b[0m\u001b[1;33m=\u001b[0m\u001b[0maxis\u001b[0m\u001b[1;33m,\u001b[0m\u001b[1;33m\u001b[0m\u001b[1;33m\u001b[0m\u001b[0m\n",
      "\u001b[1;32mD:\\anaconda\\lib\\site-packages\\pandas\\core\\generic.py\u001b[0m in \u001b[0;36mdrop\u001b[1;34m(self, labels, axis, index, columns, level, inplace, errors)\u001b[0m\n\u001b[0;32m   4265\u001b[0m         \u001b[1;32mfor\u001b[0m \u001b[0maxis\u001b[0m\u001b[1;33m,\u001b[0m \u001b[0mlabels\u001b[0m \u001b[1;32min\u001b[0m \u001b[0maxes\u001b[0m\u001b[1;33m.\u001b[0m\u001b[0mitems\u001b[0m\u001b[1;33m(\u001b[0m\u001b[1;33m)\u001b[0m\u001b[1;33m:\u001b[0m\u001b[1;33m\u001b[0m\u001b[1;33m\u001b[0m\u001b[0m\n\u001b[0;32m   4266\u001b[0m             \u001b[1;32mif\u001b[0m \u001b[0mlabels\u001b[0m \u001b[1;32mis\u001b[0m \u001b[1;32mnot\u001b[0m \u001b[1;32mNone\u001b[0m\u001b[1;33m:\u001b[0m\u001b[1;33m\u001b[0m\u001b[1;33m\u001b[0m\u001b[0m\n\u001b[1;32m-> 4267\u001b[1;33m                 \u001b[0mobj\u001b[0m \u001b[1;33m=\u001b[0m \u001b[0mobj\u001b[0m\u001b[1;33m.\u001b[0m\u001b[0m_drop_axis\u001b[0m\u001b[1;33m(\u001b[0m\u001b[0mlabels\u001b[0m\u001b[1;33m,\u001b[0m \u001b[0maxis\u001b[0m\u001b[1;33m,\u001b[0m \u001b[0mlevel\u001b[0m\u001b[1;33m=\u001b[0m\u001b[0mlevel\u001b[0m\u001b[1;33m,\u001b[0m \u001b[0merrors\u001b[0m\u001b[1;33m=\u001b[0m\u001b[0merrors\u001b[0m\u001b[1;33m)\u001b[0m\u001b[1;33m\u001b[0m\u001b[1;33m\u001b[0m\u001b[0m\n\u001b[0m\u001b[0;32m   4268\u001b[0m \u001b[1;33m\u001b[0m\u001b[0m\n\u001b[0;32m   4269\u001b[0m         \u001b[1;32mif\u001b[0m \u001b[0minplace\u001b[0m\u001b[1;33m:\u001b[0m\u001b[1;33m\u001b[0m\u001b[1;33m\u001b[0m\u001b[0m\n",
      "\u001b[1;32mD:\\anaconda\\lib\\site-packages\\pandas\\core\\generic.py\u001b[0m in \u001b[0;36m_drop_axis\u001b[1;34m(self, labels, axis, level, errors, consolidate, only_slice)\u001b[0m\n\u001b[0;32m   4309\u001b[0m                 \u001b[0mnew_axis\u001b[0m \u001b[1;33m=\u001b[0m \u001b[0maxis\u001b[0m\u001b[1;33m.\u001b[0m\u001b[0mdrop\u001b[0m\u001b[1;33m(\u001b[0m\u001b[0mlabels\u001b[0m\u001b[1;33m,\u001b[0m \u001b[0mlevel\u001b[0m\u001b[1;33m=\u001b[0m\u001b[0mlevel\u001b[0m\u001b[1;33m,\u001b[0m \u001b[0merrors\u001b[0m\u001b[1;33m=\u001b[0m\u001b[0merrors\u001b[0m\u001b[1;33m)\u001b[0m\u001b[1;33m\u001b[0m\u001b[1;33m\u001b[0m\u001b[0m\n\u001b[0;32m   4310\u001b[0m             \u001b[1;32melse\u001b[0m\u001b[1;33m:\u001b[0m\u001b[1;33m\u001b[0m\u001b[1;33m\u001b[0m\u001b[0m\n\u001b[1;32m-> 4311\u001b[1;33m                 \u001b[0mnew_axis\u001b[0m \u001b[1;33m=\u001b[0m \u001b[0maxis\u001b[0m\u001b[1;33m.\u001b[0m\u001b[0mdrop\u001b[0m\u001b[1;33m(\u001b[0m\u001b[0mlabels\u001b[0m\u001b[1;33m,\u001b[0m \u001b[0merrors\u001b[0m\u001b[1;33m=\u001b[0m\u001b[0merrors\u001b[0m\u001b[1;33m)\u001b[0m\u001b[1;33m\u001b[0m\u001b[1;33m\u001b[0m\u001b[0m\n\u001b[0m\u001b[0;32m   4312\u001b[0m             \u001b[0mindexer\u001b[0m \u001b[1;33m=\u001b[0m \u001b[0maxis\u001b[0m\u001b[1;33m.\u001b[0m\u001b[0mget_indexer\u001b[0m\u001b[1;33m(\u001b[0m\u001b[0mnew_axis\u001b[0m\u001b[1;33m)\u001b[0m\u001b[1;33m\u001b[0m\u001b[1;33m\u001b[0m\u001b[0m\n\u001b[0;32m   4313\u001b[0m \u001b[1;33m\u001b[0m\u001b[0m\n",
      "\u001b[1;32mD:\\anaconda\\lib\\site-packages\\pandas\\core\\indexes\\base.py\u001b[0m in \u001b[0;36mdrop\u001b[1;34m(self, labels, errors)\u001b[0m\n\u001b[0;32m   6659\u001b[0m         \u001b[1;32mif\u001b[0m \u001b[0mmask\u001b[0m\u001b[1;33m.\u001b[0m\u001b[0many\u001b[0m\u001b[1;33m(\u001b[0m\u001b[1;33m)\u001b[0m\u001b[1;33m:\u001b[0m\u001b[1;33m\u001b[0m\u001b[1;33m\u001b[0m\u001b[0m\n\u001b[0;32m   6660\u001b[0m             \u001b[1;32mif\u001b[0m \u001b[0merrors\u001b[0m \u001b[1;33m!=\u001b[0m \u001b[1;34m\"ignore\"\u001b[0m\u001b[1;33m:\u001b[0m\u001b[1;33m\u001b[0m\u001b[1;33m\u001b[0m\u001b[0m\n\u001b[1;32m-> 6661\u001b[1;33m                 \u001b[1;32mraise\u001b[0m \u001b[0mKeyError\u001b[0m\u001b[1;33m(\u001b[0m\u001b[1;34mf\"{list(labels[mask])} not found in axis\"\u001b[0m\u001b[1;33m)\u001b[0m\u001b[1;33m\u001b[0m\u001b[1;33m\u001b[0m\u001b[0m\n\u001b[0m\u001b[0;32m   6662\u001b[0m             \u001b[0mindexer\u001b[0m \u001b[1;33m=\u001b[0m \u001b[0mindexer\u001b[0m\u001b[1;33m[\u001b[0m\u001b[1;33m~\u001b[0m\u001b[0mmask\u001b[0m\u001b[1;33m]\u001b[0m\u001b[1;33m\u001b[0m\u001b[1;33m\u001b[0m\u001b[0m\n\u001b[0;32m   6663\u001b[0m         \u001b[1;32mreturn\u001b[0m \u001b[0mself\u001b[0m\u001b[1;33m.\u001b[0m\u001b[0mdelete\u001b[0m\u001b[1;33m(\u001b[0m\u001b[0mindexer\u001b[0m\u001b[1;33m)\u001b[0m\u001b[1;33m\u001b[0m\u001b[1;33m\u001b[0m\u001b[0m\n",
      "\u001b[1;31mKeyError\u001b[0m: \"['car'] not found in axis\""
     ]
    }
   ],
   "source": [
    "# # Supprimer la colonne car\n",
    "# data = data.drop('car', axis=1)\n"
   ]
  },
  {
   "cell_type": "code",
   "execution_count": 50,
   "id": "e414a33c-35d8-497a-bca3-b7acce34ad71",
   "metadata": {},
   "outputs": [],
   "source": [
    "data['Bar'].fillna(data['Bar'].value_counts().index[0], inplace=True)\n",
    "data['CoffeeHouse'].fillna(data['CoffeeHouse'].value_counts().index[0], inplace=True)\n",
    "data['CarryAway'].fillna(data['CarryAway'].value_counts().index[0], inplace=True)\n",
    "data['RestaurantLessThan20'].fillna(data['RestaurantLessThan20'].value_counts().index[0], inplace=True)\n",
    "data['Restaurant20To50'].fillna(data['Restaurant20To50'].value_counts().index[0], inplace=True)\n"
   ]
  },
  {
   "cell_type": "code",
   "execution_count": 52,
   "id": "353001fa-a44e-4043-98f0-fa4dd1ef52c0",
   "metadata": {
    "scrolled": true
   },
   "outputs": [
    {
     "data": {
      "text/html": [
       "<div>\n",
       "<style scoped>\n",
       "    .dataframe tbody tr th:only-of-type {\n",
       "        vertical-align: middle;\n",
       "    }\n",
       "\n",
       "    .dataframe tbody tr th {\n",
       "        vertical-align: top;\n",
       "    }\n",
       "\n",
       "    .dataframe thead th {\n",
       "        text-align: right;\n",
       "    }\n",
       "</style>\n",
       "<table border=\"1\" class=\"dataframe\">\n",
       "  <thead>\n",
       "    <tr style=\"text-align: right;\">\n",
       "      <th></th>\n",
       "      <th>temperature</th>\n",
       "      <th>has_children</th>\n",
       "      <th>toCoupon_GEQ15min</th>\n",
       "      <th>toCoupon_GEQ25min</th>\n",
       "      <th>direction_same</th>\n",
       "      <th>direction_opp</th>\n",
       "      <th>Y</th>\n",
       "    </tr>\n",
       "  </thead>\n",
       "  <tbody>\n",
       "    <tr>\n",
       "      <th>temperature</th>\n",
       "      <td>1.000000</td>\n",
       "      <td>-0.018599</td>\n",
       "      <td>-0.157089</td>\n",
       "      <td>-0.227165</td>\n",
       "      <td>0.097972</td>\n",
       "      <td>-0.097972</td>\n",
       "      <td>0.059393</td>\n",
       "    </tr>\n",
       "    <tr>\n",
       "      <th>has_children</th>\n",
       "      <td>-0.018599</td>\n",
       "      <td>1.000000</td>\n",
       "      <td>0.079434</td>\n",
       "      <td>-0.010773</td>\n",
       "      <td>-0.032353</td>\n",
       "      <td>0.032353</td>\n",
       "      <td>-0.045056</td>\n",
       "    </tr>\n",
       "    <tr>\n",
       "      <th>toCoupon_GEQ15min</th>\n",
       "      <td>-0.157089</td>\n",
       "      <td>0.079434</td>\n",
       "      <td>1.000000</td>\n",
       "      <td>0.321260</td>\n",
       "      <td>-0.302066</td>\n",
       "      <td>0.302066</td>\n",
       "      <td>-0.082693</td>\n",
       "    </tr>\n",
       "    <tr>\n",
       "      <th>toCoupon_GEQ25min</th>\n",
       "      <td>-0.227165</td>\n",
       "      <td>-0.010773</td>\n",
       "      <td>0.321260</td>\n",
       "      <td>1.000000</td>\n",
       "      <td>-0.189900</td>\n",
       "      <td>0.189900</td>\n",
       "      <td>-0.108139</td>\n",
       "    </tr>\n",
       "    <tr>\n",
       "      <th>direction_same</th>\n",
       "      <td>0.097972</td>\n",
       "      <td>-0.032353</td>\n",
       "      <td>-0.302066</td>\n",
       "      <td>-0.189900</td>\n",
       "      <td>1.000000</td>\n",
       "      <td>-1.000000</td>\n",
       "      <td>0.014932</td>\n",
       "    </tr>\n",
       "    <tr>\n",
       "      <th>direction_opp</th>\n",
       "      <td>-0.097972</td>\n",
       "      <td>0.032353</td>\n",
       "      <td>0.302066</td>\n",
       "      <td>0.189900</td>\n",
       "      <td>-1.000000</td>\n",
       "      <td>1.000000</td>\n",
       "      <td>-0.014932</td>\n",
       "    </tr>\n",
       "    <tr>\n",
       "      <th>Y</th>\n",
       "      <td>0.059393</td>\n",
       "      <td>-0.045056</td>\n",
       "      <td>-0.082693</td>\n",
       "      <td>-0.108139</td>\n",
       "      <td>0.014932</td>\n",
       "      <td>-0.014932</td>\n",
       "      <td>1.000000</td>\n",
       "    </tr>\n",
       "  </tbody>\n",
       "</table>\n",
       "</div>"
      ],
      "text/plain": [
       "                   temperature  has_children  toCoupon_GEQ15min  \\\n",
       "temperature           1.000000     -0.018599          -0.157089   \n",
       "has_children         -0.018599      1.000000           0.079434   \n",
       "toCoupon_GEQ15min    -0.157089      0.079434           1.000000   \n",
       "toCoupon_GEQ25min    -0.227165     -0.010773           0.321260   \n",
       "direction_same        0.097972     -0.032353          -0.302066   \n",
       "direction_opp        -0.097972      0.032353           0.302066   \n",
       "Y                     0.059393     -0.045056          -0.082693   \n",
       "\n",
       "                   toCoupon_GEQ25min  direction_same  direction_opp         Y  \n",
       "temperature                -0.227165        0.097972      -0.097972  0.059393  \n",
       "has_children               -0.010773       -0.032353       0.032353 -0.045056  \n",
       "toCoupon_GEQ15min           0.321260       -0.302066       0.302066 -0.082693  \n",
       "toCoupon_GEQ25min           1.000000       -0.189900       0.189900 -0.108139  \n",
       "direction_same             -0.189900        1.000000      -1.000000  0.014932  \n",
       "direction_opp               0.189900       -1.000000       1.000000 -0.014932  \n",
       "Y                          -0.108139        0.014932      -0.014932  1.000000  "
      ]
     },
     "execution_count": 52,
     "metadata": {},
     "output_type": "execute_result"
    }
   ],
   "source": [
    "data.corr()"
   ]
  },
  {
   "cell_type": "code",
   "execution_count": 62,
   "id": "45525e80-f8d6-4886-aeaf-5681a5e08be8",
   "metadata": {},
   "outputs": [
    {
     "name": "stdout",
     "output_type": "stream",
     "text": [
      "           destination  passanger weather  temperature  time  \\\n",
      "0      No Urgent Place      Alone   Sunny    -0.431651   2PM   \n",
      "1      No Urgent Place  Friend(s)   Sunny     0.873653  10AM   \n",
      "2      No Urgent Place  Friend(s)   Sunny     0.873653  10AM   \n",
      "3      No Urgent Place  Friend(s)   Sunny     0.873653   2PM   \n",
      "4      No Urgent Place  Friend(s)   Sunny     0.873653   2PM   \n",
      "...                ...        ...     ...          ...   ...   \n",
      "12679             Home    Partner   Rainy    -0.431651   6PM   \n",
      "12680             Work      Alone   Rainy    -0.431651   7AM   \n",
      "12681             Work      Alone   Snowy    -1.736955   7AM   \n",
      "12682             Work      Alone   Snowy    -1.736955   7AM   \n",
      "12683             Work      Alone   Sunny     0.873653   7AM   \n",
      "\n",
      "                      coupon expiration  gender age      maritalStatus  ...  \\\n",
      "0            Restaurant(<20)         1d  Female  21  Unmarried partner  ...   \n",
      "1               Coffee House         2h  Female  21  Unmarried partner  ...   \n",
      "2      Carry out & Take away         2h  Female  21  Unmarried partner  ...   \n",
      "3               Coffee House         2h  Female  21  Unmarried partner  ...   \n",
      "4               Coffee House         1d  Female  21  Unmarried partner  ...   \n",
      "...                      ...        ...     ...  ..                ...  ...   \n",
      "12679  Carry out & Take away         1d    Male  26             Single  ...   \n",
      "12680  Carry out & Take away         1d    Male  26             Single  ...   \n",
      "12681           Coffee House         1d    Male  26             Single  ...   \n",
      "12682                    Bar         1d    Male  26             Single  ...   \n",
      "12683      Restaurant(20-50)         2h    Male  26             Single  ...   \n",
      "\n",
      "         Bar CoffeeHouse CarryAway RestaurantLessThan20 Restaurant20To50  \\\n",
      "0      never       never       1~3                  4~8              1~3   \n",
      "1      never       never       1~3                  4~8              1~3   \n",
      "2      never       never       1~3                  4~8              1~3   \n",
      "3      never       never       1~3                  4~8              1~3   \n",
      "4      never       never       1~3                  4~8              1~3   \n",
      "...      ...         ...       ...                  ...              ...   \n",
      "12679  never       never       1~3                  4~8              1~3   \n",
      "12680  never       never       1~3                  4~8              1~3   \n",
      "12681  never       never       1~3                  4~8              1~3   \n",
      "12682  never       never       1~3                  4~8              1~3   \n",
      "12683  never       never       1~3                  4~8              1~3   \n",
      "\n",
      "      toCoupon_GEQ15min toCoupon_GEQ25min direction_same direction_opp  Y  \n",
      "0                     0                 0              0             1  1  \n",
      "1                     0                 0              0             1  0  \n",
      "2                     1                 0              0             1  1  \n",
      "3                     1                 0              0             1  0  \n",
      "4                     1                 0              0             1  0  \n",
      "...                 ...               ...            ...           ... ..  \n",
      "12679                 0                 0              1             0  1  \n",
      "12680                 0                 0              0             1  1  \n",
      "12681                 0                 0              1             0  0  \n",
      "12682                 1                 1              0             1  0  \n",
      "12683                 0                 0              1             0  0  \n",
      "\n",
      "[12610 rows x 24 columns]\n"
     ]
    }
   ],
   "source": [
    "from sklearn.preprocessing import StandardScaler\n",
    "\n",
    "#Standardization des données:\n",
    "numeric_columns = [\"temperature\", \"age\", \"income\"]\n",
    "\n",
    "# Filter out non-numeric columns\n",
    "numeric_data = data[numeric_columns].select_dtypes(include='number')\n",
    "# Créez un StandardScaler pour standardiser les données\n",
    "scaler = StandardScaler()\n",
    "\n",
    "data[numeric_data.columns] = scaler.fit_transform(numeric_data)\n",
    "print(data)\n",
    "\n",
    "\n"
   ]
  },
  {
   "cell_type": "code",
   "execution_count": 69,
   "id": "2790525f",
   "metadata": {},
   "outputs": [
    {
     "name": "stdout",
     "output_type": "stream",
     "text": [
      "           destination  passanger weather  temperature  time  \\\n",
      "0      No Urgent Place      Alone   Sunny    -0.431651   2PM   \n",
      "1      No Urgent Place  Friend(s)   Sunny     0.873653  10AM   \n",
      "2      No Urgent Place  Friend(s)   Sunny     0.873653  10AM   \n",
      "3      No Urgent Place  Friend(s)   Sunny     0.873653   2PM   \n",
      "4      No Urgent Place  Friend(s)   Sunny     0.873653   2PM   \n",
      "...                ...        ...     ...          ...   ...   \n",
      "12679             Home    Partner   Rainy    -0.431651   6PM   \n",
      "12680             Work      Alone   Rainy    -0.431651   7AM   \n",
      "12681             Work      Alone   Snowy    -1.736955   7AM   \n",
      "12682             Work      Alone   Snowy    -1.736955   7AM   \n",
      "12683             Work      Alone   Sunny     0.873653   7AM   \n",
      "\n",
      "                      coupon expiration  gender age      maritalStatus  ...  \\\n",
      "0            Restaurant(<20)         1d  Female  21  Unmarried partner  ...   \n",
      "1               Coffee House         2h  Female  21  Unmarried partner  ...   \n",
      "2      Carry out & Take away         2h  Female  21  Unmarried partner  ...   \n",
      "3               Coffee House         2h  Female  21  Unmarried partner  ...   \n",
      "4               Coffee House         1d  Female  21  Unmarried partner  ...   \n",
      "...                      ...        ...     ...  ..                ...  ...   \n",
      "12679  Carry out & Take away         1d    Male  26             Single  ...   \n",
      "12680  Carry out & Take away         1d    Male  26             Single  ...   \n",
      "12681           Coffee House         1d    Male  26             Single  ...   \n",
      "12682                    Bar         1d    Male  26             Single  ...   \n",
      "12683      Restaurant(20-50)         2h    Male  26             Single  ...   \n",
      "\n",
      "         Bar CoffeeHouse CarryAway RestaurantLessThan20 Restaurant20To50  \\\n",
      "0      never       never       1~3                  4~8              1~3   \n",
      "1      never       never       1~3                  4~8              1~3   \n",
      "2      never       never       1~3                  4~8              1~3   \n",
      "3      never       never       1~3                  4~8              1~3   \n",
      "4      never       never       1~3                  4~8              1~3   \n",
      "...      ...         ...       ...                  ...              ...   \n",
      "12679  never       never       1~3                  4~8              1~3   \n",
      "12680  never       never       1~3                  4~8              1~3   \n",
      "12681  never       never       1~3                  4~8              1~3   \n",
      "12682  never       never       1~3                  4~8              1~3   \n",
      "12683  never       never       1~3                  4~8              1~3   \n",
      "\n",
      "      toCoupon_GEQ15min toCoupon_GEQ25min direction_same direction_opp  Y  \n",
      "0                     0                 0              0             1  1  \n",
      "1                     0                 0              0             1  0  \n",
      "2                     1                 0              0             1  1  \n",
      "3                     1                 0              0             1  0  \n",
      "4                     1                 0              0             1  0  \n",
      "...                 ...               ...            ...           ... ..  \n",
      "12679                 0                 0              1             0  1  \n",
      "12680                 0                 0              0             1  1  \n",
      "12681                 0                 0              1             0  0  \n",
      "12682                 1                 1              0             1  0  \n",
      "12683                 0                 0              1             0  0  \n",
      "\n",
      "[12610 rows x 24 columns]\n"
     ]
    }
   ],
   "source": [
    "# Normalisation \n",
    "from sklearn.preprocessing import MinMaxScaler\n",
    "\n",
    "colonnes_numeriques = data.select_dtypes(include=['number']).columns\n",
    "\n",
    "scaler_minmax = MinMaxScaler()\n",
    "data_normalized = data.copy()\n",
    "data_normalized[colonnes_numeriques] = scaler_minmax.fit_transform(data_normalized[colonnes_numeriques])\n",
    "print(data)\n"
   ]
  },
  {
   "cell_type": "code",
   "execution_count": 68,
   "id": "23f6b80b-1a7d-4866-b1ab-92698db11fb2",
   "metadata": {},
   "outputs": [
    {
     "name": "stdout",
     "output_type": "stream",
     "text": [
      "Empty DataFrame\n",
      "Columns: [destination, passanger, weather, temperature, time, coupon, expiration, gender, age, maritalStatus, has_children, education, occupation, income, Bar, CoffeeHouse, CarryAway, RestaurantLessThan20, Restaurant20To50, toCoupon_GEQ15min, toCoupon_GEQ25min, direction_same, direction_opp, Y]\n",
      "Index: []\n",
      "\n",
      "[0 rows x 24 columns]\n"
     ]
    }
   ],
   "source": [
    "#Verification s'il y a des valeurs abérrantes\n",
    "colonnes_numeriques = data.select_dtypes(include=['number']).columns\n",
    "\n",
    "iqr_dict = {}  # Créez un dictionnaire pour stocker les IQR\n",
    "\n",
    "for colonne in colonnes_numeriques:\n",
    "    Q1 = data[colonne].quantile(0.25)\n",
    "    Q3 = data[colonne].quantile(0.75)\n",
    "    IQR = Q3 - Q1\n",
    "    iqr_dict[colonne] = IQR\n",
    "\n",
    "# Identifiez les valeurs aberrantes\n",
    "seuils_superieurs = Q3 + 1.5 * IQR\n",
    "seuils_inferieurs = Q1 - 1.5 * IQR\n",
    "valeurs_aberrantes = data[(data[colonne] < seuils_inferieurs) | (data[colonne] > seuils_superieurs)]\n",
    "\n",
    "print (valeurs_aberrantes)\n",
    "\n",
    "#Résultat négatif: pas de outliers"
   ]
  },
  {
   "cell_type": "code",
   "execution_count": null,
   "id": "b086d7ea-3eee-49a7-ac54-618e7b75ef2c",
   "metadata": {},
   "outputs": [],
   "source": []
  },
  {
   "cell_type": "code",
   "execution_count": null,
   "id": "15ecfd47-9151-47da-b4ba-927564e9519b",
   "metadata": {},
   "outputs": [],
   "source": []
  },
  {
   "cell_type": "code",
   "execution_count": null,
   "id": "0fee4328-9aa8-4c82-8bf9-b07153a7709e",
   "metadata": {},
   "outputs": [],
   "source": []
  },
  {
   "cell_type": "code",
   "execution_count": null,
   "id": "8f09c5ef-2e50-404e-bca3-2a18099a2095",
   "metadata": {},
   "outputs": [],
   "source": []
  },
  {
   "cell_type": "code",
   "execution_count": null,
   "id": "6f40d0bb-9718-47ce-8fd1-3345102ea2ee",
   "metadata": {},
   "outputs": [],
   "source": []
  },
  {
   "cell_type": "code",
   "execution_count": null,
   "id": "09edacfc-9a12-40ca-9d11-8f8532dc1201",
   "metadata": {},
   "outputs": [],
   "source": []
  }
 ],
 "metadata": {
  "kernelspec": {
   "display_name": "Python 3 (ipykernel)",
   "language": "python",
   "name": "python3"
  },
  "language_info": {
   "codemirror_mode": {
    "name": "ipython",
    "version": 3
   },
   "file_extension": ".py",
   "mimetype": "text/x-python",
   "name": "python",
   "nbconvert_exporter": "python",
   "pygments_lexer": "ipython3",
   "version": "3.9.13"
  }
 },
 "nbformat": 4,
 "nbformat_minor": 5
}
